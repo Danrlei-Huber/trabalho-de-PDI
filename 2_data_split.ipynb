{
 "cells": [
  {
   "cell_type": "code",
   "execution_count": 2,
   "id": "6beef132",
   "metadata": {},
   "outputs": [
    {
     "name": "stdout",
     "output_type": "stream",
     "text": [
      "✅ Dados divididos e salvos em:\n",
      "- splits/train.csv\n",
      "- splits/val.csv\n",
      "- splits/test.csv\n"
     ]
    }
   ],
   "source": [
    "import pandas as pd\n",
    "from sklearn.model_selection import train_test_split\n",
    "\n",
    "# Carrega o CSV com as features\n",
    "df = pd.read_csv(\"features/features.csv\")\n",
    "\n",
    "# Divide em X (features) e y (rótulos)\n",
    "X = df.drop(columns=[\"filename\", \"class_id\"])\n",
    "y = df[\"class_id\"]\n",
    "filenames = df[\"filename\"]\n",
    "\n",
    "# Primeiro, separa treino (80%) e o restante (20%)\n",
    "X_train, X_temp, y_train, y_temp, f_train, f_temp = train_test_split(\n",
    "    X, y, filenames, test_size=0.2, stratify=y, random_state=42\n",
    ")\n",
    "\n",
    "# Agora divide os 20% restantes em validação (10%) e teste (10%)\n",
    "X_val, X_test, y_val, y_test, f_val, f_test = train_test_split(\n",
    "    X_temp, y_temp, f_temp, test_size=0.5, stratify=y_temp, random_state=42\n",
    ")\n",
    "\n",
    "# Cria DataFrames finais com os nomes das colunas\n",
    "columns = X.columns.tolist()\n",
    "train_df = pd.DataFrame(X_train, columns=columns)\n",
    "train_df.insert(0, \"filename\", f_train.values)\n",
    "train_df.insert(1, \"class_id\", y_train.values)\n",
    "\n",
    "val_df = pd.DataFrame(X_val, columns=columns)\n",
    "val_df.insert(0, \"filename\", f_val.values)\n",
    "val_df.insert(1, \"class_id\", y_val.values)\n",
    "\n",
    "test_df = pd.DataFrame(X_test, columns=columns)\n",
    "test_df.insert(0, \"filename\", f_test.values)\n",
    "test_df.insert(1, \"class_id\", y_test.values)\n",
    "\n",
    "# Cria a pasta de saída se necessário\n",
    "import os\n",
    "os.makedirs(\"splits\", exist_ok=True)\n",
    "\n",
    "# Salva os arquivos\n",
    "train_df.to_csv(\"splits/train.csv\", index=False)\n",
    "val_df.to_csv(\"splits/val.csv\", index=False)\n",
    "test_df.to_csv(\"splits/test.csv\", index=False)\n",
    "\n",
    "print(\"✅ Dados divididos e salvos em:\")\n",
    "print(\"- splits/train.csv\")\n",
    "print(\"- splits/val.csv\")\n",
    "print(\"- splits/test.csv\")\n"
   ]
  }
 ],
 "metadata": {
  "kernelspec": {
   "display_name": "venv",
   "language": "python",
   "name": "python3"
  },
  "language_info": {
   "codemirror_mode": {
    "name": "ipython",
    "version": 3
   },
   "file_extension": ".py",
   "mimetype": "text/x-python",
   "name": "python",
   "nbconvert_exporter": "python",
   "pygments_lexer": "ipython3",
   "version": "3.13.5"
  }
 },
 "nbformat": 4,
 "nbformat_minor": 5
}
